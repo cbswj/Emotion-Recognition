{
 "cells": [
  {
   "cell_type": "code",
   "execution_count": 5,
   "metadata": {},
   "outputs": [],
   "source": [
    "from pandas.io.parsers import read_csv #엑셀 데이터를 읽어오기 위해 필요\n",
    "import shutil # 데이터 분류를 위해서\n",
    "import glob # 폴더의 모든 하위폴더까지 탐색해서 확장자가 jpg인 파일 가져오기 위해 사용\n",
    "import cv2 # 이미지 데이터 조정을 위해서"
   ]
  },
  {
   "cell_type": "code",
   "execution_count": null,
   "metadata": {},
   "outputs": [],
   "source": [
    "# 데이터셋  분류\n",
    "def data_classification(path):\n",
    "    data_csv = read_csv(path, sep=',') # '를 토큰으로 데이터를 분리해서 담을수 있도록 \n",
    "    train = np.array(train_csv)\n",
    "    src = 'dataset/csv_data/'\n",
    "    dir = 'dataset/train/'\n",
    "    for f in train:\n",
    "        filename = f[0]\n",
    "        try:\n",
    "            shutil.move(src+filename, dir + f[3] +'/'+filename)\n",
    "        except:\n",
    "            print(f[0])"
   ]
  },
  {
   "cell_type": "code",
   "execution_count": null,
   "metadata": {},
   "outputs": [],
   "source": [
    "# 분류된 데이터 가져와서 crop 실행\n",
    "def face_classification(img, cdir):\n",
    "    global count\n",
    "    count=0\n",
    "    caltech_dir = \"dataset/train/\" # fire 데이터 폴더 경로\n",
    "    class_dir = ['angry','neutral', 'sad', 'smile', 'surprise']\n",
    "    \n",
    "    for cdir in class_dir:\n",
    "        files = glob.glob(caltech_dir+cdir+\"/*.jpg\") # 이미지 파일 가져오기\n",
    "\n",
    "        for i, f in enumerate(files): # 인덱스 번호와 컬렉션의 원소를 tuple형태로 반환\n",
    "            view_img = cv2.imread(f, cv2.COLOR_BGR2GRAY)\n",
    "            face_extractor(view_img, cdir)"
   ]
  },
  {
   "cell_type": "code",
   "execution_count": 9,
   "metadata": {},
   "outputs": [],
   "source": [
    "# 데이터셋에서 얼굴을 검출한 뒤 crop해서 label에 맞춰 분류해서 저장\n",
    "def face_extractor(img, cdir):\n",
    "    global count\n",
    "    path = 'dataset/nota/train/crop/'\n",
    "    face_classifier = cv2.CascadeClassifier('haarcascade_frontalface_default.xml')\n",
    "    #얼굴 찾기 \n",
    "    faces = face_classifier.detectMultiScale(img,1.3,5)\n",
    "    #찾은 얼굴이 없으면 None으로 리턴 \n",
    "    if faces is():\n",
    "        return None\n",
    "    #얼굴들이 있으면 \n",
    "    for(x,y,w,h) in faces:\n",
    "        #해당 얼굴 크기만큼 cropped_face에 잘라 넣기 \n",
    "        cropped_face = img[y:y+h, x:x+w]\n",
    "        face = cv2.resize(cropped_face,(48,48))\n",
    "        face = cv2.cvtColor(face, cv2.COLOR_BGR2GRAY)\n",
    "        cv2.imwrite(path+cdir+'/'+str(count)+'.jpg',face)\n",
    "        count+=1"
   ]
  }
 ],
 "metadata": {
  "kernelspec": {
   "display_name": "Python 3",
   "language": "python",
   "name": "python3"
  },
  "language_info": {
   "codemirror_mode": {
    "name": "ipython",
    "version": 3
   },
   "file_extension": ".py",
   "mimetype": "text/x-python",
   "name": "python",
   "nbconvert_exporter": "python",
   "pygments_lexer": "ipython3",
   "version": "3.6.4"
  }
 },
 "nbformat": 4,
 "nbformat_minor": 2
}
