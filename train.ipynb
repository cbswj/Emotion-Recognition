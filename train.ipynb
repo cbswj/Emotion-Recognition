{
 "cells": [
  {
   "cell_type": "code",
   "execution_count": 2,
   "metadata": {},
   "outputs": [
    {
     "name": "stderr",
     "output_type": "stream",
     "text": [
      "Using TensorFlow backend.\n"
     ]
    }
   ],
   "source": [
    "import numpy as np # 계산을 위해 행렬과 같은 다양한 수학 도구를 사용하기 위한 라이브러리\n",
    "import os\n",
    "import pandas as pd\n",
    "import random\n",
    "\n",
    "#Machine Learning Library\n",
    "from sklearn.metrics import confusion_matrix\n",
    "from sklearn.utils import shuffle           \n",
    "\n",
    "#Plotting Libraries\n",
    "import seaborn as sn; sn.set(font_scale=1.4)\n",
    "import matplotlib.pyplot as plt             \n",
    "\n",
    "#openCV\n",
    "import cv2                                 \n",
    "\n",
    "#Tensor Flow & Keras\n",
    "import tensorflow as tf    \n",
    "import keras\n",
    "from keras.models import Sequential\n",
    "from keras.layers import Conv2D, MaxPooling2D, AveragePooling2D\n",
    "from keras.layers import Dense, Activation, Dropout, Flatten\n",
    "from keras.preprocessing import image\n",
    "from keras.preprocessing.image import ImageDataGenerator\n",
    "from keras.models import Sequential\n",
    "from keras.layers import Dense , Activation , Dropout ,Flatten\n",
    "from keras.layers.convolutional import Conv2D\n",
    "from keras.layers.convolutional import MaxPooling2D\n",
    "from keras.metrics import categorical_accuracy\n",
    "from keras.models import model_from_json\n",
    "from keras.callbacks import ModelCheckpoint\n",
    "from keras.optimizers import *\n",
    "from keras.layers.normalization import BatchNormalization\n",
    "\n",
    "#Train & Test Data Split\n",
    "from sklearn.model_selection import train_test_split\n",
    "\n",
    "#Garbage Collector\n",
    "import gc\n",
    "\n",
    "\n",
    "\n",
    "\n",
    "\n",
    "from keras.callbacks import EarlyStopping, ModelCheckpoint\n"
   ]
  },
  {
   "cell_type": "code",
   "execution_count": 3,
   "metadata": {},
   "outputs": [
    {
     "name": "stdout",
     "output_type": "stream",
     "text": [
      "neutral  파일 길이 :  6916\n",
      "angry  파일 길이 :  5485\n",
      "surprise  파일 길이 :  4300\n",
      "smile  파일 길이 :  9889\n",
      "sad  파일 길이 :  6439\n",
      "ok 33029\n"
     ]
    }
   ],
   "source": [
    "from PIL import Image # Python Image Library  (파이썬을 이용해서 쉽게 이미지 프로세싱을 할 수 있게 주는 라이브러리)\n",
    "\n",
    "import numpy as np # 계산을 위해 행렬과 같은 다양한 수학 도구를 사용하기 위한 라이브러리\n",
    "import os # OS는 operating system의 약자로, 운영체제를 의미 파이썬에 기본적으로 내장된 모듈의 이름\n",
    "           # os.path 모듈은 파일명과 파일경로에 대한 유용한 함수들을 많이 제공함\n",
    "            # 경로의 이미지를 모두 뽑아내기 위한 os.listdir 사용예제\n",
    "        \n",
    "import glob # 재귀적으로 현재 폴더의 모든 하위폴더까지 탐색하여 확장자가 jpg인 파일을 출력한다.\n",
    "            # 특정 파일만 출력하기\n",
    "#openCV\n",
    "import cv2   \n",
    "    \n",
    "\n",
    "\n",
    "from sklearn.model_selection import train_test_split\n",
    "\n",
    "caltech_dir = \"dataset/train\" # fire 데이터 폴더 경로\n",
    "categories = [\"neutral\",\"angry\",\"surprise\",\"smile\",\"sad\"]  # 각 dataset 폴더이름\n",
    "nb_classes = len(categories)\n",
    "\n",
    "image_w = 48\n",
    "image_h = 48\n",
    "\n",
    "X = []\n",
    "y = []\n",
    "\n",
    "for idx, cat in enumerate(categories):\n",
    "    # 입력값에 따른 결과값\n",
    "    # 분류 클래스 길이 만큼 선언한 뒤\n",
    "    # 속하는 클래스에 참 거짓(1,0) 표현\n",
    "    label = [0 for i in range(nb_classes)]\n",
    "    label[idx] = 1\n",
    "\n",
    "    \n",
    "\n",
    "    image_dir = caltech_dir + \"/\" + cat #이미지가 있는 디렉터리 경로 설정\n",
    "    files = glob.glob(image_dir+\"/*.jpg\") # 이미지 파일 가져오기\n",
    "    print(cat, \" 파일 길이 : \", len(files))\n",
    "    for i, f in enumerate(files): # 인덱스 번호와 컬렉션의 원소를 tuple형태로 반환\n",
    "        view_img = cv2.imread(f, cv2.IMREAD_COLOR)\n",
    "        view_img = cv2.cvtColor(view_img, cv2.COLOR_BGR2GRAY)\n",
    "        view_img = cv2.resize(view_img,(image_w, image_h))\n",
    "#      아마도 cv2는 numpy 형태로 반환함\n",
    "        X.append(view_img)\n",
    "        y.append(label)\n",
    "\n",
    "\n",
    "# 정규화\n",
    "X = np.array(X)/255.0\n",
    "y = np.array(y)\n",
    "\n",
    "X = X.reshape(-1, 48, 48, 1)\n",
    "\n",
    "# #dataset을 train data와 validation data를 나누어주는 함수\n",
    "X_train, X_test, y_train, y_test = train_test_split(X, y)\n",
    "\n",
    "print(\"ok\", len(y))"
   ]
  },
  {
   "cell_type": "code",
   "execution_count": 4,
   "metadata": {},
   "outputs": [
    {
     "name": "stdout",
     "output_type": "stream",
     "text": [
      "(24771, 48, 48, 1)\n",
      "(8258, 48, 48, 1)\n"
     ]
    }
   ],
   "source": [
    "print(X_train.shape)\n",
    "print(X_test.shape)"
   ]
  },
  {
   "cell_type": "code",
   "execution_count": 5,
   "metadata": {},
   "outputs": [
    {
     "name": "stdout",
     "output_type": "stream",
     "text": [
      "(48, 48)\n",
      "(33029, 48, 48, 1)\n"
     ]
    }
   ],
   "source": [
    "print(view_img.shape)\n",
    "print(X.shape)"
   ]
  },
  {
   "cell_type": "code",
   "execution_count": 6,
   "metadata": {},
   "outputs": [
    {
     "name": "stdout",
     "output_type": "stream",
     "text": [
      "WARNING:tensorflow:From C:\\Users\\dnjsw\\Anaconda3\\lib\\site-packages\\tensorflow_core\\python\\ops\\resource_variable_ops.py:1630: calling BaseResourceVariable.__init__ (from tensorflow.python.ops.resource_variable_ops) with constraint is deprecated and will be removed in a future version.\n",
      "Instructions for updating:\n",
      "If using Keras pass *_constraint arguments to layers.\n",
      "WARNING:tensorflow:From C:\\Users\\dnjsw\\Anaconda3\\lib\\site-packages\\keras\\backend\\tensorflow_backend.py:4070: The name tf.nn.max_pool is deprecated. Please use tf.nn.max_pool2d instead.\n",
      "\n"
     ]
    }
   ],
   "source": [
    "model = Sequential()\n",
    "model.add(Conv2D(64, (5, 5), input_shape=(48, 48, 1),activation='relu', padding='same'))\n",
    "model.add(Conv2D(64, (5, 5), activation='relu', padding='same'))\n",
    "model.add(BatchNormalization())\n",
    "model.add(MaxPooling2D(pool_size=(2, 2)))\n",
    "\n",
    "model.add(Conv2D(128, (5, 5),activation='relu',padding='same'))\n",
    "model.add(Conv2D(128, (5, 5),activation='relu',padding='same'))\n",
    "model.add(BatchNormalization())\n",
    "model.add(MaxPooling2D(pool_size=(2, 2)))\n",
    "\n",
    "model.add(Conv2D(256, (3, 3),activation='relu',padding='same'))\n",
    "model.add(Conv2D(256, (3, 3),activation='relu',padding='same'))\n",
    "model.add(BatchNormalization())\n",
    "model.add(MaxPooling2D(pool_size=(2, 2)))\n",
    "\n",
    "model.add(Flatten())\n",
    "model.add(Dense(128))\n",
    "model.add(BatchNormalization())\n",
    "model.add(Activation('relu'))\n",
    "model.add(Dropout(0.2))\n",
    "model.add(Dense(nb_classes))\n",
    "model.add(Activation('softmax'))\n",
    "    \n",
    "#   학습 과정 설정\n",
    "#   손실 함수 및 최적화 방법을 정의\n",
    "#   다중 분류 손실함수로 적합 categorical_crossentropy (미니 배치 확률적 경사 하강법)\n",
    "#   최적화 식 adma : 학습률을 줄여나가고 속도를 계산하여 학습의 갱신강도를 적응적으로 조정해나가는 방법\n",
    "#   (Gradient와 Learning Rate를 수정해줌)\n",
    "#   metrics : 평가기준 (accuracy 시 평가기준은 정확도)  제대로 학습되고 있는 지 확인하는 용도\n",
    "model.compile(loss='categorical_crossentropy', optimizer='adam', metrics=['accuracy'])\n",
    "model_dir = './model'\n",
    "\n",
    "if not os.path.exists(model_dir):\n",
    "    os.mkdir(model_dir)\n",
    "        \n",
    "    # 모델 저장 경로\n",
    "model_path = model_dir + '/fire_detection_images_classification.model'\n",
    "\n",
    "#  훈련하는 동안 체크포인트를 저장하는 것 (에포크마다 학습된 가중치를 파일로 저장할 수 있다.)\n",
    "#  모델을 재사용하거나 훈련을 이어서 할 수 있다.\n",
    "#   ModelCheckpoint의 속성으로 verbose는 해당 함수의 진행 사항의 출력 여부 \n",
    "#   save_best_only는 모델의 정확도가 최고값을 갱신했을 때만 저장하도록 하는 옵션\n",
    "#   val_loss 값이 개선되었을때 호출된다.\n",
    "checkpoint = ModelCheckpoint(filepath=model_path , monitor='val_loss', verbose=1, save_best_only=True)\n",
    "\n",
    "#    오버피팅(과적합)을 피하기 위한 기술    \n",
    "#  ‘EarlyStopping’이라는 함수를 사용하며 더 이상 개선의 여지가 없을 때 학습을 종료시키는 콜백함수    \n",
    "#   개선이 없다고 바로 종료하지 않고 개선이 없는 에포크를 얼마나 기다려 줄 것인 가를 지정\n",
    "#   만약 10이라고 지정하면 개선이 없는 에포크가 10번째 지속될 경우 학습을 종료.\n",
    "early_stopping = EarlyStopping(monitor='val_loss', patience = 10, mode = 'min', restore_best_weights=True)\n"
   ]
  },
  {
   "cell_type": "code",
   "execution_count": null,
   "metadata": {},
   "outputs": [
    {
     "name": "stdout",
     "output_type": "stream",
     "text": [
      "Train on 24771 samples, validate on 8258 samples\n",
      "Epoch 1/10\n",
      "24771/24771 [==============================] - 33s 1ms/step - loss: 0.3956 - accuracy: 0.8536 - val_loss: 1.0896 - val_accuracy: 0.6619\n",
      "\n",
      "Epoch 00001: val_loss did not improve from 0.89558\n",
      "Epoch 2/10\n",
      "24771/24771 [==============================] - 33s 1ms/step - loss: 0.2604 - accuracy: 0.9057 - val_loss: 1.1667 - val_accuracy: 0.6785\n",
      "\n",
      "Epoch 00002: val_loss did not improve from 0.89558\n",
      "Epoch 3/10\n",
      "24771/24771 [==============================] - 33s 1ms/step - loss: 0.1500 - accuracy: 0.9487 - val_loss: 1.2906 - val_accuracy: 0.6712\n",
      "\n",
      "Epoch 00003: val_loss did not improve from 0.89558\n",
      "Epoch 4/10\n",
      "24771/24771 [==============================] - 34s 1ms/step - loss: 0.1475 - accuracy: 0.9491 - val_loss: 1.5193 - val_accuracy: 0.6286\n",
      "\n",
      "Epoch 00004: val_loss did not improve from 0.89558\n",
      "Epoch 5/10\n",
      "24771/24771 [==============================] - 33s 1ms/step - loss: 0.1648 - accuracy: 0.9416 - val_loss: 1.4520 - val_accuracy: 0.6841\n",
      "\n",
      "Epoch 00005: val_loss did not improve from 0.89558\n",
      "Epoch 6/10\n",
      "24771/24771 [==============================] - 33s 1ms/step - loss: 0.1240 - accuracy: 0.9572 - val_loss: 1.3259 - val_accuracy: 0.6822\n",
      "\n",
      "Epoch 00006: val_loss did not improve from 0.89558\n",
      "Epoch 7/10\n",
      "13856/24771 [===============>..............] - ETA: 12s - loss: 0.1270 - accuracy: 0.9569"
     ]
    }
   ],
   "source": [
    "# 학습 시작\n",
    "#  X : 입력 데이터\n",
    "#  Y : 결과(Label 값) 데이터\n",
    "#  batch_size : 한 번에 학습할 때 사용하는 데이터 개수\n",
    "#  epochs : 학습 데이터 반복 횟수 (전체 훈련 데이터 반복 횟수)\n",
    "#  callbacks : 학습과 검증 과정에서 적용할 호출 리스트\n",
    "#  validation_data : 학습 도중 학습의 정확도를 검증할 데이터\n",
    "history = model.fit(X_train, y_train, batch_size=32, epochs=10, validation_data=(X_test, y_test), callbacks=[checkpoint, early_stopping])"
   ]
  },
  {
   "cell_type": "code",
   "execution_count": 8,
   "metadata": {
    "scrolled": true
   },
   "outputs": [
    {
     "name": "stdout",
     "output_type": "stream",
     "text": [
      "8258/8258 [==============================] - 4s 461us/step\n",
      "정확도 : 0.6722\n"
     ]
    }
   ],
   "source": [
    "#테스트 모드에서의 모델의 손실 값과 측정항목 값을 반환합니다.\n",
    "print(\"정확도 : %.4f\" % (model.evaluate(X_test, y_test)[1]))"
   ]
  },
  {
   "cell_type": "code",
   "execution_count": 14,
   "metadata": {},
   "outputs": [],
   "source": [
    "# model.save('69.9_model.h5')"
   ]
  },
  {
   "cell_type": "code",
   "execution_count": 15,
   "metadata": {},
   "outputs": [
    {
     "data": {
      "image/png": "[encoded data removed]",
      "text/plain": [
       "<matplotlib.figure.Figure at 0x1fa25cdd128>"
      ]
     },
     "metadata": {
      "needs_background": "light"
     },
     "output_type": "display_data"
    }
   ],
   "source": [
    "# loss : 훈련 손실값\n",
    "# acc : 훈련 정확도\n",
    "# val_loss : 검증 손실값\n",
    "# val_acc : 검증 정확도\n",
    "\n",
    "y_vloss = history.history['val_loss']\n",
    "y_loss = history.history['loss']\n",
    "\n",
    "x_len = np.arange(len(y_loss))\n",
    "\n",
    "\n",
    "# 2차원 그래프 그리기\n",
    "plt.plot(x_len, y_vloss, marker='.', c='red', label='val_set_loss')\n",
    "plt.plot(x_len, y_loss, marker='.', c='blue', label='train_set_loss')\n",
    "\n",
    "# 라벨 설정\n",
    "plt.legend()\n",
    "\n",
    "# x축\n",
    "plt.xlabel('epochs')\n",
    "# y축\n",
    "plt.ylabel('loss')\n",
    "\n",
    "# 그래프 x y축 선 그리기\n",
    "plt.grid()\n",
    "plt.show()"
   ]
  },
  {
   "cell_type": "code",
   "execution_count": 12,
   "metadata": {},
   "outputs": [
    {
     "data": {
      "image/png": "[encoded data removed]",
      "text/plain": [
       "<matplotlib.figure.Figure at 0x1af5986c8d0>"
      ]
     },
     "metadata": {
      "needs_background": "light"
     },
     "output_type": "display_data"
    }
   ],
   "source": [
    "# 에포크 마다의 훈련 손실값 (loss)\n",
    "# 에포크 마다의 훈련 정확도 (acc)\n",
    "# 에포크 마다의 검증 손실값 (val_loss)\n",
    "# 에포크 마다의 검증 정확도 (val_acc)\n",
    "\n",
    "# 그래프로 표시한다면 학습 상태를 직관적으로 볼 수 있다.\n",
    "# matplotlib 패키지를 이용하면 하나의 그래프로 쉽게 표시할 수 있다.\n",
    "\n",
    "fig, axes = plt.subplots(1,2, figsize=(18, 6))\n",
    "# Plot training & validation accuracy values\n",
    "axes[0].plot(history.history['accuracy'])\n",
    "axes[0].plot(history.history['val_accuracy'])\n",
    "axes[0].set_title('Model accuracy')\n",
    "axes[0].set_ylabel('Accuracy')\n",
    "axes[0].set_xlabel('Epoch')\n",
    "axes[0].legend(['Train', 'Validation'], loc='upper left')\n",
    "\n",
    "# Plot training & validation loss values\n",
    "axes[1].plot(history.history['loss'])\n",
    "axes[1].plot(history.history['val_loss'])\n",
    "axes[1].set_title('Model loss')\n",
    "axes[1].set_ylabel('Loss')\n",
    "axes[1].set_xlabel('Epoch')\n",
    "axes[1].legend(['Train', 'Validation'], loc='upper left')\n",
    "plt.show()"
   ]
  },
  {
   "cell_type": "code",
   "execution_count": 11,
   "metadata": {},
   "outputs": [
    {
     "name": "stdout",
     "output_type": "stream",
     "text": [
      "{'val_loss': [1.2385741832845867, 1.0356832209439508, 1.2094226943057858, 0.9104400968170535, 0.966045133013447, 0.8955765452121355, 0.9072560067181438, 1.1133877978714075, 1.1978522169442753, 1.1680787321614077], 'val_accuracy': [0.48159360885620117, 0.5880358219146729, 0.491765558719635, 0.6474933624267578, 0.6397432684898376, 0.6790990829467773, 0.6824896931648254, 0.6622669100761414, 0.6436182856559753, 0.6721966862678528], 'loss': [1.3565625410028752, 1.0279945463855287, 0.8711377432376085, 0.7696215963484921, 0.6796598969593088, 0.5888179124645662, 0.4678598634071823, 0.34659413755563245, 0.2955665113630353, 0.20044457231482876], 'accuracy': [0.44733763, 0.58980256, 0.6609745, 0.7050987, 0.7429656, 0.77841026, 0.82572365, 0.87231034, 0.89342374, 0.9319769]}\n"
     ]
    }
   ],
   "source": [
    "print(history.history)"
   ]
  },
  {
   "cell_type": "code",
   "execution_count": null,
   "metadata": {},
   "outputs": [],
   "source": []
  }
 ],
 "metadata": {
  "kernelspec": {
   "display_name": "Python 3",
   "language": "python",
   "name": "python3"
  },
  "language_info": {
   "codemirror_mode": {
    "name": "ipython",
    "version": 3
   },
   "file_extension": ".py",
   "mimetype": "text/x-python",
   "name": "python",
   "nbconvert_exporter": "python",
   "pygments_lexer": "ipython3",
   "version": "3.6.4"
  }
 },
 "nbformat": 4,
 "nbformat_minor": 2
}
