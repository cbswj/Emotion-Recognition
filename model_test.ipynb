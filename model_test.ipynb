{
 "cells": [
  {
   "cell_type": "code",
   "execution_count": 16,
   "metadata": {},
   "outputs": [],
   "source": [
    "from keras.models import load_model\n",
    "\n",
    "model = load_model('model/69.9_model.h5')\n"
   ]
  },
  {
   "cell_type": "code",
   "execution_count": 4,
   "metadata": {},
   "outputs": [
    {
     "name": "stdout",
     "output_type": "stream",
     "text": [
      "dataset/test\\14.smiling-asian-woman-happy-selfie.leungchopan.Shutterstock-370x242.jpg\n"
     ]
    },
    {
     "ename": "NameError",
     "evalue": "name 'cv2' is not defined",
     "output_type": "error",
     "traceback": [
      "\u001b[1;31m---------------------------------------------------------------------------\u001b[0m",
      "\u001b[1;31mNameError\u001b[0m                                 Traceback (most recent call last)",
      "\u001b[1;32m<ipython-input-4-a5793087a70c>\u001b[0m in \u001b[0;36m<module>\u001b[1;34m()\u001b[0m\n\u001b[0;32m      8\u001b[0m \u001b[1;32mfor\u001b[0m \u001b[0mi\u001b[0m\u001b[1;33m,\u001b[0m \u001b[0mf\u001b[0m \u001b[1;32min\u001b[0m \u001b[0menumerate\u001b[0m\u001b[1;33m(\u001b[0m\u001b[0mfiles\u001b[0m\u001b[1;33m)\u001b[0m\u001b[1;33m:\u001b[0m \u001b[1;31m# 인덱스 번호와 컬렉션의 원소를 tuple형태로 반환\u001b[0m\u001b[1;33m\u001b[0m\u001b[0m\n\u001b[0;32m      9\u001b[0m     \u001b[0mprint\u001b[0m\u001b[1;33m(\u001b[0m\u001b[0mf\u001b[0m\u001b[1;33m)\u001b[0m\u001b[1;33m\u001b[0m\u001b[0m\n\u001b[1;32m---> 10\u001b[1;33m     \u001b[0mview_img\u001b[0m \u001b[1;33m=\u001b[0m \u001b[0mcv2\u001b[0m\u001b[1;33m.\u001b[0m\u001b[0mimread\u001b[0m\u001b[1;33m(\u001b[0m\u001b[0mf\u001b[0m\u001b[1;33m,\u001b[0m \u001b[0mcv2\u001b[0m\u001b[1;33m.\u001b[0m\u001b[0mCOLOR_BGR2GRAY\u001b[0m\u001b[1;33m)\u001b[0m\u001b[1;33m\u001b[0m\u001b[0m\n\u001b[0m\u001b[0;32m     11\u001b[0m     \u001b[0mface_extractor\u001b[0m\u001b[1;33m(\u001b[0m\u001b[0mview_img\u001b[0m\u001b[1;33m,\u001b[0m \u001b[0mcdir\u001b[0m\u001b[1;33m)\u001b[0m\u001b[1;33m\u001b[0m\u001b[0m\n",
      "\u001b[1;31mNameError\u001b[0m: name 'cv2' is not defined"
     ]
    }
   ],
   "source": [
    "import glob # 재귀적으로 현재 폴더의 모든 하위폴더까지 탐색하여 확장자가 jpg인 파일을 출력한다.\n",
    "            # 특정 파일만 출력하기\n",
    "caltech_dir = \"dataset/test/\" # fire 데이터 폴더 경로\n",
    "\n",
    "\n",
    "files = glob.glob(caltech_dir+\"/*.jpg\") # 이미지 파일 가져오기\n",
    "\n",
    "for i, f in enumerate(files): # 인덱스 번호와 컬렉션의 원소를 tuple형태로 반환\n",
    "    view_img = cv2.imread(f, cv2.IMREAD_COLOR)\n",
    "    view_img = cv2.resize(view_img,(200, 200))\n",
    "    b, g, r = cv2.split(view_img) # img파일을 색 채널별 b,g,r로 분리\n",
    "    data = cv2.merge([r,g,b])\n",
    "    \n",
    "    view_img = cv2.imread(f)\n",
    "    face_extractor(view_img, cdir)"
   ]
  },
  {
   "cell_type": "code",
   "execution_count": 98,
   "metadata": {},
   "outputs": [
    {
     "name": "stdout",
     "output_type": "stream",
     "text": [
      "smile\n",
      "smile\n",
      "smile\n",
      "smile\n"
     ]
    }
   ],
   "source": [
    "import cv2\n",
    "import numpy as np\n",
    "\n",
    "f= 'dataset/test/7.932775232.jpg'\n",
    "\n",
    "view_img = cv2.imread(f)\n",
    "face_extractor(view_img)\n",
    "\n",
    "# model.prediect();"
   ]
  },
  {
   "cell_type": "code",
   "execution_count": 97,
   "metadata": {},
   "outputs": [],
   "source": [
    "\n",
    "\n",
    "#전체 사진에서 얼굴 부위만 잘라 리턴\n",
    "def face_extractor(img):\n",
    "    face_classifier = cv2.CascadeClassifier('haarcascade_frontalface_default.xml')\n",
    "\n",
    "    #얼굴 찾기 \n",
    "    faces = face_classifier.detectMultiScale(img,1.3,5)\n",
    "    #찾은 얼굴이 없으면 None으로 리턴 \n",
    "    if faces is():\n",
    "        return None\n",
    "    #얼굴들이 있으면 \n",
    "    for(x,y,w,h) in faces:\n",
    "        #해당 얼굴 크기만큼 cropped_face에 잘라 넣기 \n",
    "        #근데... 얼굴이 2개 이상 감지되면??\n",
    "        #가장 마지막의 얼굴만 남을 듯\n",
    "        cropped_face = img[y:y+h, x:x+w]\n",
    "        face = cv2.resize(cropped_face,(48,48))\n",
    "        face = cv2.cvtColor(face, cv2.COLOR_BGR2GRAY)\n",
    "        cv2.rectangle(img, (x,y), (x+w, y+h), (255,0,0), thickness=2)\n",
    "        label= pre(face)\n",
    "        cv2.putText(img, label, (x+w, (y+h) - 20), cv2.FONT_HERSHEY_SIMPLEX, 0.9, (0,0,0), 1)\n",
    "\n",
    "\n",
    "    #cropped_face 리턴 "
   ]
  },
  {
   "cell_type": "code",
   "execution_count": 42,
   "metadata": {},
   "outputs": [],
   "source": [
    "import cv2\n",
    "import numpy as np\n",
    "\n",
    "def pre(img):\n",
    "\n",
    "    categories = [\"neutral\",\"angry\",\"surprise\",\"smile\",\"sad\"]  # 각 dataset 폴더이름\n",
    "    img = img.reshape(-1,48,48,1)\n",
    "    predict = model.predict(img)\n",
    "    \n",
    "    return categories[np.argmax(predict)]\n",
    "\n",
    "# model.prediect();"
   ]
  },
  {
   "cell_type": "code",
   "execution_count": null,
   "metadata": {},
   "outputs": [],
   "source": []
  }
 ],
 "metadata": {
  "kernelspec": {
   "display_name": "Python 3",
   "language": "python",
   "name": "python3"
  },
  "language_info": {
   "codemirror_mode": {
    "name": "ipython",
    "version": 3
   },
   "file_extension": ".py",
   "mimetype": "text/x-python",
   "name": "python",
   "nbconvert_exporter": "python",
   "pygments_lexer": "ipython3",
   "version": "3.6.4"
  }
 },
 "nbformat": 4,
 "nbformat_minor": 2
}
