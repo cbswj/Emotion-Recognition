{
 "cells": [
  {
   "cell_type": "code",
   "execution_count": null,
   "metadata": {},
   "outputs": [],
   "source": [
    "# 노타 데이터 분류해서 폴더 이동\n",
    "from pandas.io.parsers import read_csv #엑셀 데이터를 읽어오기 위해 필요\n",
    "import shutil\n",
    "\n",
    "data_csv = read_csv('data/data.csv', sep=',') # '를 토큰으로 데이터를 분리해서 담을수 있도록 \n",
    "train = np.array(train_csv)\n",
    "\n",
    "src = 'dataset/nota_data/'\n",
    "dir = 'dataset/train/'\n",
    "for f in train:\n",
    "    filename = f[0]\n",
    "    try:\n",
    "        shutil.move(src+filename, dir + f[3] +'/'+filename)\n",
    "    except:\n",
    "        print(f[0])\n"
   ]
  }
 ],
 "metadata": {
  "kernelspec": {
   "display_name": "Python 3",
   "language": "python",
   "name": "python3"
  },
  "language_info": {
   "codemirror_mode": {
    "name": "ipython",
    "version": 3
   },
   "file_extension": ".py",
   "mimetype": "text/x-python",
   "name": "python",
   "nbconvert_exporter": "python",
   "pygments_lexer": "ipython3",
   "version": "3.6.4"
  }
 },
 "nbformat": 4,
 "nbformat_minor": 2
}
