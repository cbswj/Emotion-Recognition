{
 "cells": [
  {
   "cell_type": "code",
   "execution_count": null,
   "metadata": {},
   "outputs": [],
   "source": [
    "# 노타 데이터 항목별 분류\n",
    "from pandas.io.parsers import read_csv #엑셀 데이터를 읽어오기 위해 필요\n",
    "import shutil\n",
    "import glob # 재귀적으로 현재 폴더의 모든 하위폴더까지 탐색하여 확장자가 jpg인 파일을 출력한다.\n",
    "            # 특정 파일만 출력하기\n",
    "\n",
    "data_csv = read_csv('data/data.csv', sep=',') # '를 토큰으로 데이터를 분리해서 담을수 있도록 \n",
    "train = np.array(train_csv)\n",
    "\n",
    "src = 'dataset/nota_data/'\n",
    "dir = 'dataset/train/'\n",
    "for f in train:\n",
    "    filename = f[0]\n",
    "    try:\n",
    "        shutil.move(src+filename, dir + f[3] +'/'+filename)\n",
    "    except:\n",
    "        print(f[0])\n"
   ]
  },
  {
   "cell_type": "code",
   "execution_count": null,
   "metadata": {},
   "outputs": [],
   "source": [
    "# 분류된 노타 데이터 가져와서 crop 실행\n",
    "def face_classification(img, cdir):\n",
    "    global count\n",
    "    count=0\n",
    "    caltech_dir = \"dataset/nota/train/\" # fire 데이터 폴더 경로\n",
    "    class_dir = ['angry','neutral', 'sad', 'smile', 'surprise']\n",
    "\n",
    "\n",
    "\n",
    "    for cdir in class_dir:\n",
    "        files = glob.glob(caltech_dir+cdir+\"/*.jpg\") # 이미지 파일 가져오기\n",
    "\n",
    "        for i, f in enumerate(files): # 인덱스 번호와 컬렉션의 원소를 tuple형태로 반환\n",
    "            view_img = cv2.imread(f, cv2.COLOR_BGR2GRAY)\n",
    "            face_extractor(view_img, cdir)"
   ]
  },
  {
   "cell_type": "code",
   "execution_count": null,
   "metadata": {},
   "outputs": [],
   "source": [
    "\n",
    "\n",
    "#전체 사진에서 얼굴 부위만 crop해서 분류해서 저장한다.\n",
    "def face_extractor(img, cdir):\n",
    "    global count\n",
    "    path = 'dataset/nota/train/crop/'\n",
    "    face_classifier = cv2.CascadeClassifier('haarcascade_frontalface_default.xml')\n",
    "\n",
    "    #얼굴 찾기 \n",
    "    faces = face_classifier.detectMultiScale(img,1.3,5)\n",
    "    #찾은 얼굴이 없으면 None으로 리턴 \n",
    "    if faces is():\n",
    "        return None\n",
    "    #얼굴들이 있으면 \n",
    "    for(x,y,w,h) in faces:\n",
    "        #해당 얼굴 크기만큼 cropped_face에 잘라 넣기 \n",
    "        #근데... 얼굴이 2개 이상 감지되면??\n",
    "        #가장 마지막의 얼굴만 남을 듯\n",
    "        cropped_face = img[y:y+h, x:x+w]\n",
    "        face = cv2.resize(cropped_face,(48,48))\n",
    "        face = cv2.cvtColor(face, cv2.COLOR_BGR2GRAY)\n",
    "        cv2.imwrite(path+cdir+'/'+str(count)+'.jpg',face)\n",
    "        count+=1\n",
    "    #cropped_face 리턴 "
   ]
  }
 ],
 "metadata": {
  "kernelspec": {
   "display_name": "Python 3",
   "language": "python",
   "name": "python3"
  },
  "language_info": {
   "codemirror_mode": {
    "name": "ipython",
    "version": 3
   },
   "file_extension": ".py",
   "mimetype": "text/x-python",
   "name": "python",
   "nbconvert_exporter": "python",
   "pygments_lexer": "ipython3",
   "version": "3.6.4"
  }
 },
 "nbformat": 4,
 "nbformat_minor": 2
}
